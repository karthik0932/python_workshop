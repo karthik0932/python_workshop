{
  "nbformat": 4,
  "nbformat_minor": 0,
  "metadata": {
    "colab": {
      "name": "Day1_session2 exercise.",
      "provenance": [],
      "collapsed_sections": [],
      "include_colab_link": true
    },
    "kernelspec": {
      "name": "python3",
      "display_name": "Python 3"
    }
  },
  "cells": [
    {
      "cell_type": "markdown",
      "metadata": {
        "id": "view-in-github",
        "colab_type": "text"
      },
      "source": [
        "<a href=\"https://colab.research.google.com/github/JyothiShetty/python_workshop/blob/master/Day1_session2_exercise_.ipynb\" target=\"_parent\"><img src=\"https://colab.research.google.com/assets/colab-badge.svg\" alt=\"Open In Colab\"/></a>"
      ]
    },
    {
      "cell_type": "code",
      "metadata": {
        "id": "hlb5Nt-FDrjH",
        "colab_type": "code",
        "colab": {
          "base_uri": "https://localhost:8080/",
          "height": 105
        },
        "outputId": "9aeb648f-4d0b-4616-f768-4f0a0970f7c4"
      },
      "source": [
        "'''\n",
        "1) Enter number 4\n",
        "*\n",
        "* *\n",
        "* * *\n",
        "* * * *\n",
        "'''\n",
        "n=4;\n",
        "for i in range(n+1):\n",
        "    for j in range(i):\n",
        "        print ('*', end=\" \")\n",
        "    print('')\n",
        "\n",
        "\n"
      ],
      "execution_count": null,
      "outputs": [
        {
          "output_type": "stream",
          "text": [
            "\n",
            "* \n",
            "* * \n",
            "* * * \n",
            "* * * * \n"
          ],
          "name": "stdout"
        }
      ]
    },
    {
      "cell_type": "code",
      "metadata": {
        "id": "R32vJzX_ExpQ",
        "colab_type": "code",
        "colab": {
          "base_uri": "https://localhost:8080/",
          "height": 101
        },
        "outputId": "91f059ca-2e31-425b-fc33-c0d80f1c0170"
      },
      "source": [
        "'''\n",
        "2) Write a program to print the triangle\n",
        "\n",
        "n=4\n",
        "1\n",
        "2    3\n",
        "3    4   5\n",
        "4    5   6   7\n",
        "'''\n",
        "n=4;\n",
        "for i in range(0,n+1):\n",
        "  j=i\n",
        "  for k in range(i):    \n",
        "    print(j,end=\" \")\n",
        "    j+=1\n",
        "\n",
        "  print(\"\")\n",
        "\n",
        "  \n",
        "  "
      ],
      "execution_count": 1,
      "outputs": [
        {
          "output_type": "stream",
          "text": [
            "\n",
            "1 \n",
            "2 3 \n",
            "3 4 5 \n",
            "4 5 6 7 \n"
          ],
          "name": "stdout"
        }
      ]
    },
    {
      "cell_type": "code",
      "metadata": {
        "id": "GIRjAuHSdC2M",
        "colab_type": "code",
        "colab": {
          "base_uri": "https://localhost:8080/",
          "height": 105
        },
        "outputId": "3a9113bb-0bde-4ab1-d9a9-a7e2c2bab0ca"
      },
      "source": [
        "'''\n",
        "3) Enter number 5\n",
        "\n",
        "5\n",
        "4 5\n",
        "3 4 5\n",
        "2 3 4 5\n",
        "1 2 3 4 5\n",
        "'''\n",
        "n=5\n",
        "for i in range(n+1,1,-1):\n",
        "  i-=1\n",
        "  for j in range(i,n+1):\n",
        "        print(j, end=\" \")\n",
        "        j+=1\n",
        "  print('')"
      ],
      "execution_count": null,
      "outputs": [
        {
          "output_type": "stream",
          "text": [
            "5 \n",
            "4 5 \n",
            "3 4 5 \n",
            "2 3 4 5 \n",
            "1 2 3 4 5 \n"
          ],
          "name": "stdout"
        }
      ]
    },
    {
      "cell_type": "code",
      "metadata": {
        "id": "OLmqBqVVev1u",
        "colab_type": "code",
        "colab": {
          "base_uri": "https://localhost:8080/",
          "height": 123
        },
        "outputId": "27a7c93e-7112-46a1-d0d2-c865bce52f4d"
      },
      "source": [
        "'''\n",
        "4)Enter number 5\n",
        "\n",
        "5 4 3 2 1\n",
        "4 3 2 1\n",
        "3 2 1\n",
        "2 1\n",
        "1\n",
        "'''\n",
        "n=5\n",
        "for i in range(n+1,0,-1):\n",
        "  \n",
        "  for j in range(1,i):\n",
        "    j=i-1\n",
        "    print(j, end=\" \")\n",
        "    i-=1\n",
        "  print('')\n",
        "\n"
      ],
      "execution_count": null,
      "outputs": [
        {
          "output_type": "stream",
          "text": [
            "5 4 3 2 1 \n",
            "4 3 2 1 \n",
            "3 2 1 \n",
            "2 1 \n",
            "1 \n",
            "\n"
          ],
          "name": "stdout"
        }
      ]
    },
    {
      "cell_type": "code",
      "metadata": {
        "id": "unmhLaqShePj",
        "colab_type": "code",
        "colab": {
          "base_uri": "https://localhost:8080/",
          "height": 141
        },
        "outputId": "c2a0d59a-86b3-4f14-fd22-0491445764a4"
      },
      "source": [
        "'''\n",
        "5)Enter number 4\n",
        "\n",
        "1 2 3 4\n",
        "2 3 4\n",
        "3 4\n",
        "4\n",
        "3 4\n",
        "2 3 4\n",
        "1 2 3 4\n",
        "'''\n",
        "n=4;\n",
        "\n",
        "for i in range(0,n,1): \n",
        "  for j in range(i+1,n+1,1):     \n",
        "    print(j,end=\" \")\n",
        "  print(\"\") \n",
        "\n",
        "for i in range(n-1,0,-1): \n",
        "  for j in range(i,n+1):     \n",
        "    print(j,end=\" \")\n",
        "  print(\" \")\n",
        "\n",
        "\n",
        "\n"
      ],
      "execution_count": null,
      "outputs": [
        {
          "output_type": "stream",
          "text": [
            "1 2 3 4 \n",
            "2 3 4 \n",
            "3 4 \n",
            "4 \n",
            "3 4  \n",
            "2 3 4  \n",
            "1 2 3 4  \n"
          ],
          "name": "stdout"
        }
      ]
    },
    {
      "cell_type": "code",
      "metadata": {
        "id": "5V-2Eu1Z5blv",
        "colab_type": "code",
        "colab": {
          "base_uri": "https://localhost:8080/",
          "height": 50
        },
        "outputId": "75028100-fe87-4369-f014-afc7af8c934b"
      },
      "source": [
        "'''\n",
        "6)Find the length of a string without using len functions\n",
        "'''\n",
        "string=input(\"Enter the string:\")\n",
        "print(\"The length of string:\",len(string))"
      ],
      "execution_count": 2,
      "outputs": [
        {
          "output_type": "stream",
          "text": [
            "Enter the string:jyothi\n",
            "The length of string: 6\n"
          ],
          "name": "stdout"
        }
      ]
    },
    {
      "cell_type": "code",
      "metadata": {
        "id": "VT4tlizN6PzP",
        "colab_type": "code",
        "colab": {
          "base_uri": "https://localhost:8080/",
          "height": 101
        },
        "outputId": "0ce514be-acbb-4dae-8402-73ec6b5f8f1c"
      },
      "source": [
        "'''\n",
        "7)Find the no of words and characters in a string\n",
        "'''\n",
        "string=input(\"Enter string:\")\n",
        "char=0\n",
        "word=1\n",
        "for i in string:\n",
        "      char=char+1\n",
        "      if(i==' '):\n",
        "            word=word+1\n",
        "print(\"Number of words in the string:\")\n",
        "print(word)\n",
        "print(\"Number of characters in the string:\")\n",
        "print(char)\n"
      ],
      "execution_count": 4,
      "outputs": [
        {
          "output_type": "stream",
          "text": [
            "Enter string:jyothi br\n",
            "Number of words in the string:\n",
            "2\n",
            "Number of characters in the string:\n",
            "9\n"
          ],
          "name": "stdout"
        }
      ]
    },
    {
      "cell_type": "code",
      "metadata": {
        "id": "rwmJdkMm7WNX",
        "colab_type": "code",
        "colab": {
          "base_uri": "https://localhost:8080/",
          "height": 34
        },
        "outputId": "c5b4e108-80ba-47ed-e97c-1ee9a02d20a2"
      },
      "source": [
        "'''\n",
        "8)Find the no of occurrences of a word in a string\n",
        "'''\n",
        "def word_count(str):\n",
        "    counts = dict()\n",
        "    words = str.split()\n",
        "\n",
        "    for word in words:\n",
        "        if word in counts:\n",
        "            counts[word] += 1\n",
        "        else:\n",
        "            counts[word] = 1\n",
        "\n",
        "    return counts\n",
        "\n",
        "print( word_count('the quick brown fox jumps over the lazy dog.'))"
      ],
      "execution_count": null,
      "outputs": [
        {
          "output_type": "stream",
          "text": [
            "{'the': 2, 'quick': 1, 'brown': 1, 'fox': 1, 'jumps': 1, 'over': 1, 'lazy': 1, 'dog.': 1}\n"
          ],
          "name": "stdout"
        }
      ]
    }
  ]
}