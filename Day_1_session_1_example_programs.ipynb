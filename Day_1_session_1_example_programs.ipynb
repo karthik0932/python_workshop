{
  "nbformat": 4,
  "nbformat_minor": 0,
  "metadata": {
    "colab": {
      "name": "Day 1 session 1 example_programs.ipynb",
      "provenance": [],
      "collapsed_sections": [],
      "authorship_tag": "ABX9TyOoTfgS5jUq0shbsCCx8rhB",
      "include_colab_link": true
    },
    "kernelspec": {
      "name": "python3",
      "display_name": "Python 3"
    }
  },
  "cells": [
    {
      "cell_type": "markdown",
      "metadata": {
        "id": "view-in-github",
        "colab_type": "text"
      },
      "source": [
        "<a href=\"https://colab.research.google.com/github/JyothiShetty/python_workshop/blob/master/Day_1_session_1_example_programs.ipynb\" target=\"_parent\"><img src=\"https://colab.research.google.com/assets/colab-badge.svg\" alt=\"Open In Colab\"/></a>"
      ]
    },
    {
      "cell_type": "markdown",
      "metadata": {
        "id": "_UUXww7DFNcu",
        "colab_type": "text"
      },
      "source": [
        "#first program in google colab\n"
      ]
    },
    {
      "cell_type": "markdown",
      "metadata": {
        "id": "Pco6ZgWjHCCV",
        "colab_type": "text"
      },
      "source": [
        "#Python Program to Add Two Numbers getting through key board"
      ]
    },
    {
      "cell_type": "code",
      "metadata": {
        "id": "Z7NnURYKHEEt",
        "colab_type": "code",
        "colab": {
          "base_uri": "https://localhost:8080/",
          "height": 67
        },
        "outputId": "e17887f2-7e17-43ba-f142-369c8e67b88e"
      },
      "source": [
        "# sum of two nos\n",
        "num1 = int(input(\"Enter first no\"))\n",
        "num2 = int(input(\"Enter second\"))\n",
        "# Adding the two numbers\n",
        "sum = num1 + num2\n",
        "# Display the sum\n",
        "print(\"The sum of {0} and {1} is {2}\".format(num1, num2, sum))\n"
      ],
      "execution_count": null,
      "outputs": [
        {
          "output_type": "stream",
          "text": [
            "Enter first no3\n",
            "Enter second5\n",
            "The sum of 3 and 5 is 8\n"
          ],
          "name": "stdout"
        }
      ]
    },
    {
      "cell_type": "markdown",
      "metadata": {
        "id": "Uw43w9YMH63l",
        "colab_type": "text"
      },
      "source": [
        ""
      ]
    },
    {
      "cell_type": "markdown",
      "metadata": {
        "id": "yhg5Z3-DSm8k",
        "colab_type": "text"
      },
      "source": [
        "#Python program to check if the input year is a leap year or not"
      ]
    },
    {
      "cell_type": "code",
      "metadata": {
        "id": "PLPKytlsSskz",
        "colab_type": "code",
        "colab": {
          "base_uri": "https://localhost:8080/",
          "height": 50
        },
        "outputId": "dd28b46d-1333-4b29-8786-7350f262dcca"
      },
      "source": [
        "# To get year (integer input) from the user\n",
        "year = int(input('Enter a year:'))\n",
        "if ((year % 4) == 0 and (year % 100) != 0) or ((year % 400) == 0):\n",
        "  print('{0} is a leap year'.format(year))\n",
        "else:\n",
        "  print('{0} is not a leap year'.format(year))"
      ],
      "execution_count": null,
      "outputs": [
        {
          "output_type": "stream",
          "text": [
            "Enter a year:2020\n",
            "2020 is a leap year\n"
          ],
          "name": "stdout"
        }
      ]
    },
    {
      "cell_type": "markdown",
      "metadata": {
        "id": "YMaPQ5YiYQQC",
        "colab_type": "text"
      },
      "source": [
        "#Python Program to Generate a Random Number"
      ]
    },
    {
      "cell_type": "code",
      "metadata": {
        "id": "a0gitPVvYTZS",
        "colab_type": "code",
        "colab": {
          "base_uri": "https://localhost:8080/",
          "height": 34
        },
        "outputId": "d50b79b2-ede1-4c34-adc4-960b389e7ae9"
      },
      "source": [
        "# Program to generate a random number between 0 and 9\n",
        "# import the random module\n",
        "import random\n",
        "print(random.randint(0,9))"
      ],
      "execution_count": null,
      "outputs": [
        {
          "output_type": "stream",
          "text": [
            "3\n"
          ],
          "name": "stdout"
        }
      ]
    },
    {
      "cell_type": "markdown",
      "metadata": {
        "id": "SckQwaZYYoXb",
        "colab_type": "text"
      },
      "source": [
        "#Python Program to Convert Kilometers to Miles"
      ]
    },
    {
      "cell_type": "code",
      "metadata": {
        "id": "_91-q8mhYs2q",
        "colab_type": "code",
        "colab": {
          "base_uri": "https://localhost:8080/",
          "height": 50
        },
        "outputId": "c9c5cbd1-2b2f-44ed-ecef-e9028e26198d"
      },
      "source": [
        "# To take kilometers from the user, uncomment the code below\n",
        "kilometers = int(input('Enter value in kilometer'))\n",
        "# conversion factor\n",
        "conv_fac = 0.621371\n",
        "# calculate miles\n",
        "miles = kilometers * conv_fac\n",
        "print('%0.3f kilometers is equal to %0.3f miles' %(kilometers,miles))"
      ],
      "execution_count": null,
      "outputs": [
        {
          "output_type": "stream",
          "text": [
            "Enter value in kilometer25\n",
            "25.000 kilometers is equal to 15.534 miles\n"
          ],
          "name": "stdout"
        }
      ]
    },
    {
      "cell_type": "markdown",
      "metadata": {
        "id": "gOrnFdVQZIuC",
        "colab_type": "text"
      },
      "source": [
        "#Python Program to Solve Quadratic Equation"
      ]
    },
    {
      "cell_type": "code",
      "metadata": {
        "id": "0YA96alLZOrR",
        "colab_type": "code",
        "colab": {
          "base_uri": "https://localhost:8080/",
          "height": 84
        },
        "outputId": "c6cb032a-b4af-4c2d-ace0-9a54db7eeb15"
      },
      "source": [
        "# Solve the quadratic equation ax**2 + bx + c = 0\n",
        "# importing complex math module\n",
        "import cmath\n",
        "# To take coefficient input from the users\n",
        "a = float(input('Enter a: '))\n",
        "b = float(input('Enter b: '))\n",
        "c = float(input('Enter c: '))\n",
        "# calculate the discriminant\n",
        "d = (b**2) - (4*a*c)\n",
        "# find two solutions\n",
        "sol1 = (-b-cmath.sqrt(d))/(2*a)\n",
        "sol2 = (-b+cmath.sqrt(d))/(2*a)\n",
        "print('The solution are {0} and {1}'.format(sol1,sol2))"
      ],
      "execution_count": null,
      "outputs": [
        {
          "output_type": "stream",
          "text": [
            "Enter a: 0.25\n",
            "Enter b: .36\n",
            "Enter c: .45\n",
            "The solution are (-0.72-1.1320777358467924j) and (-0.72+1.1320777358467924j)\n"
          ],
          "name": "stdout"
        }
      ]
    },
    {
      "cell_type": "markdown",
      "metadata": {
        "id": "GjwdPJdaZsW1",
        "colab_type": "text"
      },
      "source": [
        "#Python Program to find prime or not using function"
      ]
    },
    {
      "cell_type": "code",
      "metadata": {
        "id": "cpfBJhv-Zz0K",
        "colab_type": "code",
        "colab": {
          "base_uri": "https://localhost:8080/",
          "height": 50
        },
        "outputId": "2bdb8c51-dd58-4d6c-e8e1-9a42e2156563"
      },
      "source": [
        "def test_prime(n):\n",
        "  if (n==1):\n",
        "    return False\n",
        "  elif (n==2):\n",
        "    return True\n",
        "  else:\n",
        "    for x in range(2,n):\n",
        "      if(n % x==0):\n",
        "        return False\n",
        "    return True\n",
        "no=int(input('Enter the number'))\n",
        "if (test_prime(no)) is True :\n",
        "  print('{0} is a prime no'.format(no))\n",
        "else:\n",
        "  print('{0} is not a prime no'.format(no))"
      ],
      "execution_count": null,
      "outputs": [
        {
          "output_type": "stream",
          "text": [
            "Enter the number5\n",
            "5 is a prime no\n"
          ],
          "name": "stdout"
        }
      ]
    },
    {
      "cell_type": "markdown",
      "metadata": {
        "id": "s_Lj6kb5bAbM",
        "colab_type": "text"
      },
      "source": [
        "#calculator program"
      ]
    },
    {
      "cell_type": "code",
      "metadata": {
        "id": "RoJ8QsoLbRHS",
        "colab_type": "code",
        "colab": {
          "base_uri": "https://localhost:8080/",
          "height": 1000
        },
        "outputId": "16ba5708-8517-45a8-e47f-2ddef0bf17ff"
      },
      "source": [
        "loop = 1 # 1 means loop; anything else means don&#39;t loop.\n",
        "choice = 0 # This variable holds the user&#39;s choice in the menu\n",
        "def add(a,b):\n",
        "  return a+b\n",
        "def sub(a,b):\n",
        "  return a-b\n",
        "def mul(a,b):\n",
        "  return a*b\n",
        "def div(a,b):\n",
        "  return a/b\n",
        "while loop == 1:\n",
        "# Print what options you have\n",
        "  print ('Welcome to calculator.py')\n",
        "  print ('your options are:')\n",
        "  print (' ')\n",
        "  print('1) Addition')\n",
        "  print('2) Subtraction')\n",
        "  print('3) Multiplication')\n",
        "  print('4) Division')\n",
        "  print('5) Quit calculator.py')\n",
        "  print(' ')\n",
        "  try:\n",
        "    choice = int(input('Choose your option: '))\n",
        "  except:\n",
        "    print('please enter a valid number for option')\n",
        "    print(' ')\n",
        "    print(' ')\n",
        "  if choice == 1:\n",
        "    x = int(input(\"Enter 1st no:\"))\n",
        "    y = int(input('Enter 2nd no:'))\n",
        "    print('The answer is',add(x,y))\n",
        "  elif choice == 2:\n",
        "    x = int(input('Enter 1st no: '))\n",
        "    y = int(input('Enter 2nd no:'))\n",
        "    print('answer is ',sub(x,y))\n",
        "  elif choice == 3:\n",
        "    x = int(input('Enter 1st no: '))\n",
        "    y = int(input('Enter 2nd no: '))\n",
        "    print('answer is ',mul(x,y))\n",
        "  elif choice == 4:\n",
        "    x = int(input('Enter 1st no: '))\n",
        "    y = int(input('Enter 2nd no: '))\n",
        "    print('answer is ',div(x,y))\n",
        "  elif choice == 5:\n",
        "    loop = 0\n",
        "  else:\n",
        "    print('please choice a valid option from 1 to 5')\n",
        "    choice=0\n",
        "    print ('Thank-you for using calculator.py!')"
      ],
      "execution_count": 2,
      "outputs": [
        {
          "output_type": "stream",
          "text": [
            "Welcome to calculator.py\n",
            "your options are:\n",
            " \n",
            "1) Addition\n",
            "2) Subtraction\n",
            "3) Multiplication\n",
            "4) Division\n",
            "5) Quit calculator.py\n",
            " \n",
            "Choose your option: 1\n",
            "Enter 1st no:2\n",
            "Enter 2nd no:3\n",
            "The answer is 5\n",
            "Welcome to calculator.py\n",
            "your options are:\n",
            " \n",
            "1) Addition\n",
            "2) Subtraction\n",
            "3) Multiplication\n",
            "4) Division\n",
            "5) Quit calculator.py\n",
            " \n",
            "Choose your option: 2\n",
            "Enter 1st no: 5\n",
            "Enter 2nd no:6\n",
            "answer is  -1\n",
            "Welcome to calculator.py\n",
            "your options are:\n",
            " \n",
            "1) Addition\n",
            "2) Subtraction\n",
            "3) Multiplication\n",
            "4) Division\n",
            "5) Quit calculator.py\n",
            " \n",
            "Choose your option: 3\n",
            "Enter 1st no: 4\n",
            "Enter 2nd no: 1\n",
            "answer is  4\n",
            "Welcome to calculator.py\n",
            "your options are:\n",
            " \n",
            "1) Addition\n",
            "2) Subtraction\n",
            "3) Multiplication\n",
            "4) Division\n",
            "5) Quit calculator.py\n",
            " \n",
            "Choose your option: 4\n",
            "Enter 1st no: 9\n",
            "Enter 2nd no: 3\n",
            "answer is  3.0\n",
            "Welcome to calculator.py\n",
            "your options are:\n",
            " \n",
            "1) Addition\n",
            "2) Subtraction\n",
            "3) Multiplication\n",
            "4) Division\n",
            "5) Quit calculator.py\n",
            " \n",
            "Choose your option: 4\n",
            "Enter 1st no: 8\n",
            "Enter 2nd no: 6\n",
            "answer is  1.3333333333333333\n",
            "Welcome to calculator.py\n",
            "your options are:\n",
            " \n",
            "1) Addition\n",
            "2) Subtraction\n",
            "3) Multiplication\n",
            "4) Division\n",
            "5) Quit calculator.py\n",
            " \n",
            "Choose your option: 5\n"
          ],
          "name": "stdout"
        }
      ]
    }
  ]
}